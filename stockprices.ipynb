{
 "cells": [
  {
   "cell_type": "code",
   "execution_count": 1,
   "metadata": {},
   "outputs": [
    {
     "name": "stdout",
     "output_type": "stream",
     "text": [
      "Requirement already satisfied: yfinance in c:\\users\\newusername\\anaconda3\\lib\\site-packages (0.2.31)\n",
      "Requirement already satisfied: pandas>=1.3.0 in c:\\users\\newusername\\anaconda3\\lib\\site-packages (from yfinance) (1.4.4)\n",
      "Requirement already satisfied: multitasking>=0.0.7 in c:\\users\\newusername\\anaconda3\\lib\\site-packages (from yfinance) (0.0.11)\n",
      "Requirement already satisfied: lxml>=4.9.1 in c:\\users\\newusername\\anaconda3\\lib\\site-packages (from yfinance) (4.9.1)\n",
      "Requirement already satisfied: requests>=2.31 in c:\\users\\newusername\\anaconda3\\lib\\site-packages (from yfinance) (2.31.0)\n",
      "Requirement already satisfied: frozendict>=2.3.4 in c:\\users\\newusername\\anaconda3\\lib\\site-packages (from yfinance) (2.3.8)\n",
      "Requirement already satisfied: peewee>=3.16.2 in c:\\users\\newusername\\anaconda3\\lib\\site-packages (from yfinance) (3.17.0)\n",
      "Requirement already satisfied: numpy>=1.16.5 in c:\\users\\newusername\\anaconda3\\lib\\site-packages (from yfinance) (1.21.5)\n",
      "Requirement already satisfied: html5lib>=1.1 in c:\\users\\newusername\\anaconda3\\lib\\site-packages (from yfinance) (1.1)\n",
      "Requirement already satisfied: pytz>=2022.5 in c:\\users\\newusername\\anaconda3\\lib\\site-packages (from yfinance) (2023.3.post1)\n",
      "Requirement already satisfied: beautifulsoup4>=4.11.1 in c:\\users\\newusername\\anaconda3\\lib\\site-packages (from yfinance) (4.11.1)\n",
      "Requirement already satisfied: appdirs>=1.4.4 in c:\\users\\newusername\\anaconda3\\lib\\site-packages (from yfinance) (1.4.4)\n",
      "Requirement already satisfied: soupsieve>1.2 in c:\\users\\newusername\\anaconda3\\lib\\site-packages (from beautifulsoup4>=4.11.1->yfinance) (2.3.1)\n",
      "Requirement already satisfied: webencodings in c:\\users\\newusername\\anaconda3\\lib\\site-packages (from html5lib>=1.1->yfinance) (0.5.1)\n",
      "Requirement already satisfied: six>=1.9 in c:\\users\\newusername\\anaconda3\\lib\\site-packages (from html5lib>=1.1->yfinance) (1.16.0)\n",
      "Requirement already satisfied: python-dateutil>=2.8.1 in c:\\users\\newusername\\anaconda3\\lib\\site-packages (from pandas>=1.3.0->yfinance) (2.8.2)\n",
      "Requirement already satisfied: urllib3<3,>=1.21.1 in c:\\users\\newusername\\anaconda3\\lib\\site-packages (from requests>=2.31->yfinance) (1.26.11)\n",
      "Requirement already satisfied: certifi>=2017.4.17 in c:\\users\\newusername\\anaconda3\\lib\\site-packages (from requests>=2.31->yfinance) (2022.9.14)\n",
      "Requirement already satisfied: charset-normalizer<4,>=2 in c:\\users\\newusername\\anaconda3\\lib\\site-packages (from requests>=2.31->yfinance) (2.0.4)\n",
      "Requirement already satisfied: idna<4,>=2.5 in c:\\users\\newusername\\anaconda3\\lib\\site-packages (from requests>=2.31->yfinance) (3.3)\n"
     ]
    }
   ],
   "source": [
    "!pip install yfinance\n",
    "\n",
    "import yfinance as yf\n",
    "import pandas as pd\n",
    "import numpy as np\n",
    "import matplotlib.pyplot as plt\n",
    "import seaborn as sns\n",
    "\n"
   ]
  },
  {
   "cell_type": "code",
   "execution_count": 2,
   "metadata": {},
   "outputs": [
    {
     "data": {
      "text/html": [
       "<div>\n",
       "<style scoped>\n",
       "    .dataframe tbody tr th:only-of-type {\n",
       "        vertical-align: middle;\n",
       "    }\n",
       "\n",
       "    .dataframe tbody tr th {\n",
       "        vertical-align: top;\n",
       "    }\n",
       "\n",
       "    .dataframe thead th {\n",
       "        text-align: right;\n",
       "    }\n",
       "</style>\n",
       "<table border=\"1\" class=\"dataframe\">\n",
       "  <thead>\n",
       "    <tr style=\"text-align: right;\">\n",
       "      <th></th>\n",
       "      <th>Open</th>\n",
       "      <th>High</th>\n",
       "      <th>Low</th>\n",
       "      <th>Close</th>\n",
       "      <th>Volume</th>\n",
       "      <th>Dividends</th>\n",
       "      <th>Stock Splits</th>\n",
       "    </tr>\n",
       "    <tr>\n",
       "      <th>Date</th>\n",
       "      <th></th>\n",
       "      <th></th>\n",
       "      <th></th>\n",
       "      <th></th>\n",
       "      <th></th>\n",
       "      <th></th>\n",
       "      <th></th>\n",
       "    </tr>\n",
       "  </thead>\n",
       "  <tbody>\n",
       "    <tr>\n",
       "      <th>1997-05-15 00:00:00-04:00</th>\n",
       "      <td>0.121875</td>\n",
       "      <td>0.125000</td>\n",
       "      <td>0.096354</td>\n",
       "      <td>0.097917</td>\n",
       "      <td>1443120000</td>\n",
       "      <td>0.0</td>\n",
       "      <td>0.0</td>\n",
       "    </tr>\n",
       "    <tr>\n",
       "      <th>1997-05-16 00:00:00-04:00</th>\n",
       "      <td>0.098438</td>\n",
       "      <td>0.098958</td>\n",
       "      <td>0.085417</td>\n",
       "      <td>0.086458</td>\n",
       "      <td>294000000</td>\n",
       "      <td>0.0</td>\n",
       "      <td>0.0</td>\n",
       "    </tr>\n",
       "    <tr>\n",
       "      <th>1997-05-19 00:00:00-04:00</th>\n",
       "      <td>0.088021</td>\n",
       "      <td>0.088542</td>\n",
       "      <td>0.081250</td>\n",
       "      <td>0.085417</td>\n",
       "      <td>122136000</td>\n",
       "      <td>0.0</td>\n",
       "      <td>0.0</td>\n",
       "    </tr>\n",
       "    <tr>\n",
       "      <th>1997-05-20 00:00:00-04:00</th>\n",
       "      <td>0.086458</td>\n",
       "      <td>0.087500</td>\n",
       "      <td>0.081771</td>\n",
       "      <td>0.081771</td>\n",
       "      <td>109344000</td>\n",
       "      <td>0.0</td>\n",
       "      <td>0.0</td>\n",
       "    </tr>\n",
       "    <tr>\n",
       "      <th>1997-05-21 00:00:00-04:00</th>\n",
       "      <td>0.081771</td>\n",
       "      <td>0.082292</td>\n",
       "      <td>0.068750</td>\n",
       "      <td>0.071354</td>\n",
       "      <td>377064000</td>\n",
       "      <td>0.0</td>\n",
       "      <td>0.0</td>\n",
       "    </tr>\n",
       "  </tbody>\n",
       "</table>\n",
       "</div>"
      ],
      "text/plain": [
       "                               Open      High       Low     Close      Volume  \\\n",
       "Date                                                                            \n",
       "1997-05-15 00:00:00-04:00  0.121875  0.125000  0.096354  0.097917  1443120000   \n",
       "1997-05-16 00:00:00-04:00  0.098438  0.098958  0.085417  0.086458   294000000   \n",
       "1997-05-19 00:00:00-04:00  0.088021  0.088542  0.081250  0.085417   122136000   \n",
       "1997-05-20 00:00:00-04:00  0.086458  0.087500  0.081771  0.081771   109344000   \n",
       "1997-05-21 00:00:00-04:00  0.081771  0.082292  0.068750  0.071354   377064000   \n",
       "\n",
       "                           Dividends  Stock Splits  \n",
       "Date                                                \n",
       "1997-05-15 00:00:00-04:00        0.0           0.0  \n",
       "1997-05-16 00:00:00-04:00        0.0           0.0  \n",
       "1997-05-19 00:00:00-04:00        0.0           0.0  \n",
       "1997-05-20 00:00:00-04:00        0.0           0.0  \n",
       "1997-05-21 00:00:00-04:00        0.0           0.0  "
      ]
     },
     "execution_count": 2,
     "metadata": {},
     "output_type": "execute_result"
    }
   ],
   "source": [
    "amzn_ticker = yf.Ticker(\"AMZN\")\n",
    "\n",
    "amzn = amzn_ticker.history(period=\"max\")\n",
    "\n",
    "amzn_earn = amzn_ticker.earnings_dates\n",
    "\n",
    "amzn.head()"
   ]
  },
  {
   "cell_type": "code",
   "execution_count": 3,
   "metadata": {},
   "outputs": [
    {
     "data": {
      "text/html": [
       "<div>\n",
       "<style scoped>\n",
       "    .dataframe tbody tr th:only-of-type {\n",
       "        vertical-align: middle;\n",
       "    }\n",
       "\n",
       "    .dataframe tbody tr th {\n",
       "        vertical-align: top;\n",
       "    }\n",
       "\n",
       "    .dataframe thead th {\n",
       "        text-align: right;\n",
       "    }\n",
       "</style>\n",
       "<table border=\"1\" class=\"dataframe\">\n",
       "  <thead>\n",
       "    <tr style=\"text-align: right;\">\n",
       "      <th></th>\n",
       "      <th>Open</th>\n",
       "      <th>High</th>\n",
       "      <th>Low</th>\n",
       "      <th>Close</th>\n",
       "      <th>Volume</th>\n",
       "      <th>Dividends</th>\n",
       "      <th>Stock Splits</th>\n",
       "    </tr>\n",
       "    <tr>\n",
       "      <th>Date</th>\n",
       "      <th></th>\n",
       "      <th></th>\n",
       "      <th></th>\n",
       "      <th></th>\n",
       "      <th></th>\n",
       "      <th></th>\n",
       "      <th></th>\n",
       "    </tr>\n",
       "  </thead>\n",
       "  <tbody>\n",
       "    <tr>\n",
       "      <th>2023-11-06 00:00:00-05:00</th>\n",
       "      <td>138.759995</td>\n",
       "      <td>140.729996</td>\n",
       "      <td>138.360001</td>\n",
       "      <td>139.740005</td>\n",
       "      <td>44970400</td>\n",
       "      <td>0.0</td>\n",
       "      <td>0.0</td>\n",
       "    </tr>\n",
       "    <tr>\n",
       "      <th>2023-11-07 00:00:00-05:00</th>\n",
       "      <td>140.550003</td>\n",
       "      <td>143.369995</td>\n",
       "      <td>140.500000</td>\n",
       "      <td>142.710007</td>\n",
       "      <td>53553500</td>\n",
       "      <td>0.0</td>\n",
       "      <td>0.0</td>\n",
       "    </tr>\n",
       "    <tr>\n",
       "      <th>2023-11-08 00:00:00-05:00</th>\n",
       "      <td>142.970001</td>\n",
       "      <td>143.119995</td>\n",
       "      <td>141.220001</td>\n",
       "      <td>142.080002</td>\n",
       "      <td>44521700</td>\n",
       "      <td>0.0</td>\n",
       "      <td>0.0</td>\n",
       "    </tr>\n",
       "    <tr>\n",
       "      <th>2023-11-09 00:00:00-05:00</th>\n",
       "      <td>142.020004</td>\n",
       "      <td>142.649994</td>\n",
       "      <td>139.839996</td>\n",
       "      <td>140.600006</td>\n",
       "      <td>36235400</td>\n",
       "      <td>0.0</td>\n",
       "      <td>0.0</td>\n",
       "    </tr>\n",
       "    <tr>\n",
       "      <th>2023-11-10 00:00:00-05:00</th>\n",
       "      <td>140.460007</td>\n",
       "      <td>143.649994</td>\n",
       "      <td>139.910004</td>\n",
       "      <td>143.559998</td>\n",
       "      <td>49287800</td>\n",
       "      <td>0.0</td>\n",
       "      <td>0.0</td>\n",
       "    </tr>\n",
       "  </tbody>\n",
       "</table>\n",
       "</div>"
      ],
      "text/plain": [
       "                                 Open        High         Low       Close  \\\n",
       "Date                                                                        \n",
       "2023-11-06 00:00:00-05:00  138.759995  140.729996  138.360001  139.740005   \n",
       "2023-11-07 00:00:00-05:00  140.550003  143.369995  140.500000  142.710007   \n",
       "2023-11-08 00:00:00-05:00  142.970001  143.119995  141.220001  142.080002   \n",
       "2023-11-09 00:00:00-05:00  142.020004  142.649994  139.839996  140.600006   \n",
       "2023-11-10 00:00:00-05:00  140.460007  143.649994  139.910004  143.559998   \n",
       "\n",
       "                             Volume  Dividends  Stock Splits  \n",
       "Date                                                          \n",
       "2023-11-06 00:00:00-05:00  44970400        0.0           0.0  \n",
       "2023-11-07 00:00:00-05:00  53553500        0.0           0.0  \n",
       "2023-11-08 00:00:00-05:00  44521700        0.0           0.0  \n",
       "2023-11-09 00:00:00-05:00  36235400        0.0           0.0  \n",
       "2023-11-10 00:00:00-05:00  49287800        0.0           0.0  "
      ]
     },
     "execution_count": 3,
     "metadata": {},
     "output_type": "execute_result"
    }
   ],
   "source": [
    "amzn.tail()"
   ]
  },
  {
   "cell_type": "code",
   "execution_count": 4,
   "metadata": {},
   "outputs": [
    {
     "data": {
      "text/plain": [
       "(6668, 7)"
      ]
     },
     "execution_count": 4,
     "metadata": {},
     "output_type": "execute_result"
    }
   ],
   "source": [
    "amzn.shape"
   ]
  },
  {
   "cell_type": "markdown",
   "metadata": {},
   "source": [
    "We have data from May 1997 to today's date of 11 Nov 2023 - roughly 26 years of data, only on trading days. This is 6656 entries."
   ]
  },
  {
   "cell_type": "code",
   "execution_count": 5,
   "metadata": {},
   "outputs": [],
   "source": [
    "# delete unnecessary columns\n",
    "del amzn['Dividends']\n",
    "del amzn['Stock Splits']"
   ]
  },
  {
   "cell_type": "markdown",
   "metadata": {},
   "source": [
    "## Goal - to predict whether price will go up or down tomorrow"
   ]
  },
  {
   "cell_type": "code",
   "execution_count": 6,
   "metadata": {},
   "outputs": [],
   "source": [
    "# create tomorrow's price column using shift -1 (1 day before) of closing price\n",
    "amzn['Tomorrow'] = amzn['Close'].shift(-1)"
   ]
  },
  {
   "cell_type": "code",
   "execution_count": 7,
   "metadata": {},
   "outputs": [
    {
     "data": {
      "text/html": [
       "<div>\n",
       "<style scoped>\n",
       "    .dataframe tbody tr th:only-of-type {\n",
       "        vertical-align: middle;\n",
       "    }\n",
       "\n",
       "    .dataframe tbody tr th {\n",
       "        vertical-align: top;\n",
       "    }\n",
       "\n",
       "    .dataframe thead th {\n",
       "        text-align: right;\n",
       "    }\n",
       "</style>\n",
       "<table border=\"1\" class=\"dataframe\">\n",
       "  <thead>\n",
       "    <tr style=\"text-align: right;\">\n",
       "      <th></th>\n",
       "      <th>Open</th>\n",
       "      <th>High</th>\n",
       "      <th>Low</th>\n",
       "      <th>Close</th>\n",
       "      <th>Volume</th>\n",
       "      <th>Tomorrow</th>\n",
       "    </tr>\n",
       "    <tr>\n",
       "      <th>Date</th>\n",
       "      <th></th>\n",
       "      <th></th>\n",
       "      <th></th>\n",
       "      <th></th>\n",
       "      <th></th>\n",
       "      <th></th>\n",
       "    </tr>\n",
       "  </thead>\n",
       "  <tbody>\n",
       "    <tr>\n",
       "      <th>1997-05-15 00:00:00-04:00</th>\n",
       "      <td>0.121875</td>\n",
       "      <td>0.125000</td>\n",
       "      <td>0.096354</td>\n",
       "      <td>0.097917</td>\n",
       "      <td>1443120000</td>\n",
       "      <td>0.086458</td>\n",
       "    </tr>\n",
       "    <tr>\n",
       "      <th>1997-05-16 00:00:00-04:00</th>\n",
       "      <td>0.098438</td>\n",
       "      <td>0.098958</td>\n",
       "      <td>0.085417</td>\n",
       "      <td>0.086458</td>\n",
       "      <td>294000000</td>\n",
       "      <td>0.085417</td>\n",
       "    </tr>\n",
       "    <tr>\n",
       "      <th>1997-05-19 00:00:00-04:00</th>\n",
       "      <td>0.088021</td>\n",
       "      <td>0.088542</td>\n",
       "      <td>0.081250</td>\n",
       "      <td>0.085417</td>\n",
       "      <td>122136000</td>\n",
       "      <td>0.081771</td>\n",
       "    </tr>\n",
       "    <tr>\n",
       "      <th>1997-05-20 00:00:00-04:00</th>\n",
       "      <td>0.086458</td>\n",
       "      <td>0.087500</td>\n",
       "      <td>0.081771</td>\n",
       "      <td>0.081771</td>\n",
       "      <td>109344000</td>\n",
       "      <td>0.071354</td>\n",
       "    </tr>\n",
       "    <tr>\n",
       "      <th>1997-05-21 00:00:00-04:00</th>\n",
       "      <td>0.081771</td>\n",
       "      <td>0.082292</td>\n",
       "      <td>0.068750</td>\n",
       "      <td>0.071354</td>\n",
       "      <td>377064000</td>\n",
       "      <td>0.069792</td>\n",
       "    </tr>\n",
       "  </tbody>\n",
       "</table>\n",
       "</div>"
      ],
      "text/plain": [
       "                               Open      High       Low     Close      Volume  \\\n",
       "Date                                                                            \n",
       "1997-05-15 00:00:00-04:00  0.121875  0.125000  0.096354  0.097917  1443120000   \n",
       "1997-05-16 00:00:00-04:00  0.098438  0.098958  0.085417  0.086458   294000000   \n",
       "1997-05-19 00:00:00-04:00  0.088021  0.088542  0.081250  0.085417   122136000   \n",
       "1997-05-20 00:00:00-04:00  0.086458  0.087500  0.081771  0.081771   109344000   \n",
       "1997-05-21 00:00:00-04:00  0.081771  0.082292  0.068750  0.071354   377064000   \n",
       "\n",
       "                           Tomorrow  \n",
       "Date                                 \n",
       "1997-05-15 00:00:00-04:00  0.086458  \n",
       "1997-05-16 00:00:00-04:00  0.085417  \n",
       "1997-05-19 00:00:00-04:00  0.081771  \n",
       "1997-05-20 00:00:00-04:00  0.071354  \n",
       "1997-05-21 00:00:00-04:00  0.069792  "
      ]
     },
     "execution_count": 7,
     "metadata": {},
     "output_type": "execute_result"
    }
   ],
   "source": [
    "amzn.head()"
   ]
  },
  {
   "cell_type": "code",
   "execution_count": 8,
   "metadata": {},
   "outputs": [
    {
     "data": {
      "text/html": [
       "<div>\n",
       "<style scoped>\n",
       "    .dataframe tbody tr th:only-of-type {\n",
       "        vertical-align: middle;\n",
       "    }\n",
       "\n",
       "    .dataframe tbody tr th {\n",
       "        vertical-align: top;\n",
       "    }\n",
       "\n",
       "    .dataframe thead th {\n",
       "        text-align: right;\n",
       "    }\n",
       "</style>\n",
       "<table border=\"1\" class=\"dataframe\">\n",
       "  <thead>\n",
       "    <tr style=\"text-align: right;\">\n",
       "      <th></th>\n",
       "      <th>Open</th>\n",
       "      <th>High</th>\n",
       "      <th>Low</th>\n",
       "      <th>Close</th>\n",
       "      <th>Volume</th>\n",
       "      <th>Tomorrow</th>\n",
       "      <th>Target</th>\n",
       "    </tr>\n",
       "    <tr>\n",
       "      <th>Date</th>\n",
       "      <th></th>\n",
       "      <th></th>\n",
       "      <th></th>\n",
       "      <th></th>\n",
       "      <th></th>\n",
       "      <th></th>\n",
       "      <th></th>\n",
       "    </tr>\n",
       "  </thead>\n",
       "  <tbody>\n",
       "    <tr>\n",
       "      <th>1997-05-15 00:00:00-04:00</th>\n",
       "      <td>0.121875</td>\n",
       "      <td>0.125000</td>\n",
       "      <td>0.096354</td>\n",
       "      <td>0.097917</td>\n",
       "      <td>1443120000</td>\n",
       "      <td>0.086458</td>\n",
       "      <td>0</td>\n",
       "    </tr>\n",
       "    <tr>\n",
       "      <th>1997-05-16 00:00:00-04:00</th>\n",
       "      <td>0.098438</td>\n",
       "      <td>0.098958</td>\n",
       "      <td>0.085417</td>\n",
       "      <td>0.086458</td>\n",
       "      <td>294000000</td>\n",
       "      <td>0.085417</td>\n",
       "      <td>0</td>\n",
       "    </tr>\n",
       "    <tr>\n",
       "      <th>1997-05-19 00:00:00-04:00</th>\n",
       "      <td>0.088021</td>\n",
       "      <td>0.088542</td>\n",
       "      <td>0.081250</td>\n",
       "      <td>0.085417</td>\n",
       "      <td>122136000</td>\n",
       "      <td>0.081771</td>\n",
       "      <td>0</td>\n",
       "    </tr>\n",
       "    <tr>\n",
       "      <th>1997-05-20 00:00:00-04:00</th>\n",
       "      <td>0.086458</td>\n",
       "      <td>0.087500</td>\n",
       "      <td>0.081771</td>\n",
       "      <td>0.081771</td>\n",
       "      <td>109344000</td>\n",
       "      <td>0.071354</td>\n",
       "      <td>0</td>\n",
       "    </tr>\n",
       "    <tr>\n",
       "      <th>1997-05-21 00:00:00-04:00</th>\n",
       "      <td>0.081771</td>\n",
       "      <td>0.082292</td>\n",
       "      <td>0.068750</td>\n",
       "      <td>0.071354</td>\n",
       "      <td>377064000</td>\n",
       "      <td>0.069792</td>\n",
       "      <td>0</td>\n",
       "    </tr>\n",
       "  </tbody>\n",
       "</table>\n",
       "</div>"
      ],
      "text/plain": [
       "                               Open      High       Low     Close      Volume  \\\n",
       "Date                                                                            \n",
       "1997-05-15 00:00:00-04:00  0.121875  0.125000  0.096354  0.097917  1443120000   \n",
       "1997-05-16 00:00:00-04:00  0.098438  0.098958  0.085417  0.086458   294000000   \n",
       "1997-05-19 00:00:00-04:00  0.088021  0.088542  0.081250  0.085417   122136000   \n",
       "1997-05-20 00:00:00-04:00  0.086458  0.087500  0.081771  0.081771   109344000   \n",
       "1997-05-21 00:00:00-04:00  0.081771  0.082292  0.068750  0.071354   377064000   \n",
       "\n",
       "                           Tomorrow  Target  \n",
       "Date                                         \n",
       "1997-05-15 00:00:00-04:00  0.086458       0  \n",
       "1997-05-16 00:00:00-04:00  0.085417       0  \n",
       "1997-05-19 00:00:00-04:00  0.081771       0  \n",
       "1997-05-20 00:00:00-04:00  0.071354       0  \n",
       "1997-05-21 00:00:00-04:00  0.069792       0  "
      ]
     },
     "execution_count": 8,
     "metadata": {},
     "output_type": "execute_result"
    }
   ],
   "source": [
    "# create a target column to compare if tomorrow's price is greater than today's price\n",
    "# returns boolean True if price went up\n",
    "# convert into numeric 1 or 0 using as type \n",
    "amzn['Target'] = (amzn['Tomorrow'] > amzn['Close']).astype(int)\n",
    "amzn.head()"
   ]
  },
  {
   "cell_type": "markdown",
   "metadata": {},
   "source": [
    "## Split train and test data"
   ]
  },
  {
   "cell_type": "code",
   "execution_count": 9,
   "metadata": {},
   "outputs": [],
   "source": [
    "cutoff_index = int(0.8*len(amzn))\n",
    "train = amzn.iloc[:cutoff_index]\n",
    "test = amzn.iloc[cutoff_index:]"
   ]
  },
  {
   "cell_type": "markdown",
   "metadata": {},
   "source": [
    "## Train test model - RandomForestClassifier"
   ]
  },
  {
   "cell_type": "code",
   "execution_count": 10,
   "metadata": {},
   "outputs": [],
   "source": [
    "from sklearn.ensemble import RandomForestClassifier\n",
    "\n",
    "rf = RandomForestClassifier(n_estimators=100, min_samples_split=100, random_state=42)"
   ]
  },
  {
   "cell_type": "code",
   "execution_count": 11,
   "metadata": {},
   "outputs": [],
   "source": [
    "predictors = [\"Close\", \"Volume\", \"Open\", \"High\", \"Low\"]\n"
   ]
  },
  {
   "cell_type": "code",
   "execution_count": 12,
   "metadata": {},
   "outputs": [],
   "source": [
    "X_train = train[predictors]\n",
    "y_train = train['Target']\n",
    "X_test = test[predictors]\n",
    "y_test = test['Target']"
   ]
  },
  {
   "cell_type": "code",
   "execution_count": 13,
   "metadata": {},
   "outputs": [
    {
     "data": {
      "text/plain": [
       "RandomForestClassifier(min_samples_split=100, random_state=42)"
      ]
     },
     "execution_count": 13,
     "metadata": {},
     "output_type": "execute_result"
    }
   ],
   "source": [
    "\n",
    "rf.fit(X_train, y_train)"
   ]
  },
  {
   "cell_type": "code",
   "execution_count": 14,
   "metadata": {},
   "outputs": [
    {
     "data": {
      "text/plain": [
       "array([1, 1, 1, ..., 0, 0, 0])"
      ]
     },
     "execution_count": 14,
     "metadata": {},
     "output_type": "execute_result"
    }
   ],
   "source": [
    "from sklearn.metrics import precision_score\n",
    "\n",
    "#what percentage of the prediction is accurate\n",
    "\n",
    "preds = rf.predict(X_test)\n",
    "preds"
   ]
  },
  {
   "cell_type": "code",
   "execution_count": 15,
   "metadata": {},
   "outputs": [
    {
     "data": {
      "text/plain": [
       "Date\n",
       "2018-07-26 00:00:00-04:00    1\n",
       "2018-07-27 00:00:00-04:00    1\n",
       "2018-07-30 00:00:00-04:00    1\n",
       "2018-07-31 00:00:00-04:00    1\n",
       "2018-08-01 00:00:00-04:00    1\n",
       "                            ..\n",
       "2023-11-06 00:00:00-05:00    0\n",
       "2023-11-07 00:00:00-05:00    0\n",
       "2023-11-08 00:00:00-05:00    0\n",
       "2023-11-09 00:00:00-05:00    0\n",
       "2023-11-10 00:00:00-05:00    0\n",
       "Length: 1334, dtype: int32"
      ]
     },
     "execution_count": 15,
     "metadata": {},
     "output_type": "execute_result"
    }
   ],
   "source": [
    "preds = pd.Series(preds, index=test.index)\n",
    "preds"
   ]
  },
  {
   "cell_type": "code",
   "execution_count": 16,
   "metadata": {},
   "outputs": [
    {
     "data": {
      "text/plain": [
       "0.5467625899280576"
      ]
     },
     "execution_count": 16,
     "metadata": {},
     "output_type": "execute_result"
    }
   ],
   "source": [
    "precision_score(y_test, preds)"
   ]
  },
  {
   "cell_type": "code",
   "execution_count": 17,
   "metadata": {},
   "outputs": [
    {
     "data": {
      "text/html": [
       "<div>\n",
       "<style scoped>\n",
       "    .dataframe tbody tr th:only-of-type {\n",
       "        vertical-align: middle;\n",
       "    }\n",
       "\n",
       "    .dataframe tbody tr th {\n",
       "        vertical-align: top;\n",
       "    }\n",
       "\n",
       "    .dataframe thead th {\n",
       "        text-align: right;\n",
       "    }\n",
       "</style>\n",
       "<table border=\"1\" class=\"dataframe\">\n",
       "  <thead>\n",
       "    <tr style=\"text-align: right;\">\n",
       "      <th></th>\n",
       "      <th>Target</th>\n",
       "      <th>0</th>\n",
       "    </tr>\n",
       "    <tr>\n",
       "      <th>Date</th>\n",
       "      <th></th>\n",
       "      <th></th>\n",
       "    </tr>\n",
       "  </thead>\n",
       "  <tbody>\n",
       "    <tr>\n",
       "      <th>2018-07-26 00:00:00-04:00</th>\n",
       "      <td>1</td>\n",
       "      <td>1</td>\n",
       "    </tr>\n",
       "    <tr>\n",
       "      <th>2018-07-27 00:00:00-04:00</th>\n",
       "      <td>0</td>\n",
       "      <td>1</td>\n",
       "    </tr>\n",
       "    <tr>\n",
       "      <th>2018-07-30 00:00:00-04:00</th>\n",
       "      <td>0</td>\n",
       "      <td>1</td>\n",
       "    </tr>\n",
       "    <tr>\n",
       "      <th>2018-07-31 00:00:00-04:00</th>\n",
       "      <td>1</td>\n",
       "      <td>1</td>\n",
       "    </tr>\n",
       "    <tr>\n",
       "      <th>2018-08-01 00:00:00-04:00</th>\n",
       "      <td>1</td>\n",
       "      <td>1</td>\n",
       "    </tr>\n",
       "  </tbody>\n",
       "</table>\n",
       "</div>"
      ],
      "text/plain": [
       "                           Target  0\n",
       "Date                                \n",
       "2018-07-26 00:00:00-04:00       1  1\n",
       "2018-07-27 00:00:00-04:00       0  1\n",
       "2018-07-30 00:00:00-04:00       0  1\n",
       "2018-07-31 00:00:00-04:00       1  1\n",
       "2018-08-01 00:00:00-04:00       1  1"
      ]
     },
     "execution_count": 17,
     "metadata": {},
     "output_type": "execute_result"
    }
   ],
   "source": [
    "combined = pd.concat([y_test, preds], axis=1)\n",
    "combined.head()"
   ]
  },
  {
   "cell_type": "code",
   "execution_count": 18,
   "metadata": {},
   "outputs": [
    {
     "data": {
      "text/plain": [
       "<AxesSubplot:xlabel='Date'>"
      ]
     },
     "execution_count": 18,
     "metadata": {},
     "output_type": "execute_result"
    },
    {
     "data": {
      "image/png": "[encoded data removed]",
      "text/plain": [
       "<Figure size 640x480 with 1 Axes>"
      ]
     },
     "metadata": {},
     "output_type": "display_data"
    }
   ],
   "source": [
    "combined.plot()"
   ]
  },
  {
   "cell_type": "markdown",
   "metadata": {},
   "source": [
    "## Backtesting - Walk-forward Expanding window cross validation method\n",
    "\n",
    "Create more predictions using different portions of the data to validate accuracy of the model.\n",
    "- Split data intro training and testing sets using a rolling window\n",
    "- Train model on portion of the data, make predictions for the next time steps, then shift the window forward.\n",
    "- Starts with small training window and gradually expand it over time.\n",
    "- This approach gives more weight to recent data, which is more relevant for forecasting.\n"
   ]
  },
  {
   "cell_type": "code",
   "execution_count": 19,
   "metadata": {},
   "outputs": [],
   "source": [
    "def predict(train, test, predictors, model):\n",
    "    X_train = train[predictors]\n",
    "    y_train = train['Target']\n",
    "    X_test = test[predictors]\n",
    "    y_test = test['Target']\n",
    "    model.fit(X_train, y_train)\n",
    "    preds = model.predict(X_test)\n",
    "    preds = pd.Series(preds, index=test.index, name=\"Predictions\")\n",
    "    combined = pd.concat([y_test, preds], axis=1)\n",
    "    return combined"
   ]
  },
  {
   "cell_type": "code",
   "execution_count": 20,
   "metadata": {},
   "outputs": [],
   "source": [
    "#every year has 250 trading days, \n",
    "#predict first 10 years (2500 days) then add another year (step=250)\n",
    "#predict 11 years, then add another year, predict 12 years and so forth\n",
    "#gives confidence in our model to do multiple testing\n",
    "\n",
    "def backtest(data, model, predictors, start=2500, step=250):\n",
    "    all_predictions = []\n",
    "\n",
    "    for i in range(start, data.shape[0], step):\n",
    "        train = data.iloc[0:i].copy() #start with first 10 years\n",
    "        test = data.iloc[i:(i+step)].copy() #test on 11th year (i+step) on the first round\n",
    "        predictions = predict(train, test, predictors, model)\n",
    "        all_predictions.append(predictions)\n",
    "    return pd.concat(all_predictions)\n"
   ]
  },
  {
   "cell_type": "code",
   "execution_count": 21,
   "metadata": {},
   "outputs": [
    {
     "data": {
      "text/html": [
       "<div>\n",
       "<style scoped>\n",
       "    .dataframe tbody tr th:only-of-type {\n",
       "        vertical-align: middle;\n",
       "    }\n",
       "\n",
       "    .dataframe tbody tr th {\n",
       "        vertical-align: top;\n",
       "    }\n",
       "\n",
       "    .dataframe thead th {\n",
       "        text-align: right;\n",
       "    }\n",
       "</style>\n",
       "<table border=\"1\" class=\"dataframe\">\n",
       "  <thead>\n",
       "    <tr style=\"text-align: right;\">\n",
       "      <th></th>\n",
       "      <th>Target</th>\n",
       "      <th>Predictions</th>\n",
       "    </tr>\n",
       "    <tr>\n",
       "      <th>Date</th>\n",
       "      <th></th>\n",
       "      <th></th>\n",
       "    </tr>\n",
       "  </thead>\n",
       "  <tbody>\n",
       "    <tr>\n",
       "      <th>2007-04-25 00:00:00-04:00</th>\n",
       "      <td>1</td>\n",
       "      <td>0</td>\n",
       "    </tr>\n",
       "    <tr>\n",
       "      <th>2007-04-26 00:00:00-04:00</th>\n",
       "      <td>0</td>\n",
       "      <td>0</td>\n",
       "    </tr>\n",
       "    <tr>\n",
       "      <th>2007-04-27 00:00:00-04:00</th>\n",
       "      <td>0</td>\n",
       "      <td>1</td>\n",
       "    </tr>\n",
       "    <tr>\n",
       "      <th>2007-04-30 00:00:00-04:00</th>\n",
       "      <td>1</td>\n",
       "      <td>1</td>\n",
       "    </tr>\n",
       "    <tr>\n",
       "      <th>2007-05-01 00:00:00-04:00</th>\n",
       "      <td>0</td>\n",
       "      <td>1</td>\n",
       "    </tr>\n",
       "    <tr>\n",
       "      <th>...</th>\n",
       "      <td>...</td>\n",
       "      <td>...</td>\n",
       "    </tr>\n",
       "    <tr>\n",
       "      <th>2023-11-06 00:00:00-05:00</th>\n",
       "      <td>1</td>\n",
       "      <td>0</td>\n",
       "    </tr>\n",
       "    <tr>\n",
       "      <th>2023-11-07 00:00:00-05:00</th>\n",
       "      <td>0</td>\n",
       "      <td>0</td>\n",
       "    </tr>\n",
       "    <tr>\n",
       "      <th>2023-11-08 00:00:00-05:00</th>\n",
       "      <td>0</td>\n",
       "      <td>0</td>\n",
       "    </tr>\n",
       "    <tr>\n",
       "      <th>2023-11-09 00:00:00-05:00</th>\n",
       "      <td>1</td>\n",
       "      <td>1</td>\n",
       "    </tr>\n",
       "    <tr>\n",
       "      <th>2023-11-10 00:00:00-05:00</th>\n",
       "      <td>0</td>\n",
       "      <td>0</td>\n",
       "    </tr>\n",
       "  </tbody>\n",
       "</table>\n",
       "<p>4168 rows × 2 columns</p>\n",
       "</div>"
      ],
      "text/plain": [
       "                           Target  Predictions\n",
       "Date                                          \n",
       "2007-04-25 00:00:00-04:00       1            0\n",
       "2007-04-26 00:00:00-04:00       0            0\n",
       "2007-04-27 00:00:00-04:00       0            1\n",
       "2007-04-30 00:00:00-04:00       1            1\n",
       "2007-05-01 00:00:00-04:00       0            1\n",
       "...                           ...          ...\n",
       "2023-11-06 00:00:00-05:00       1            0\n",
       "2023-11-07 00:00:00-05:00       0            0\n",
       "2023-11-08 00:00:00-05:00       0            0\n",
       "2023-11-09 00:00:00-05:00       1            1\n",
       "2023-11-10 00:00:00-05:00       0            0\n",
       "\n",
       "[4168 rows x 2 columns]"
      ]
     },
     "execution_count": 21,
     "metadata": {},
     "output_type": "execute_result"
    }
   ],
   "source": [
    "predictions = backtest(amzn, rf, predictors)\n",
    "predictions"
   ]
  },
  {
   "cell_type": "code",
   "execution_count": 22,
   "metadata": {},
   "outputs": [
    {
     "data": {
      "text/plain": [
       "0    3233\n",
       "1     935\n",
       "Name: Predictions, dtype: int64"
      ]
     },
     "execution_count": 22,
     "metadata": {},
     "output_type": "execute_result"
    }
   ],
   "source": [
    "predictions['Predictions'].value_counts()"
   ]
  },
  {
   "cell_type": "code",
   "execution_count": 23,
   "metadata": {},
   "outputs": [
    {
     "data": {
      "text/plain": [
       "0.5122994652406417"
      ]
     },
     "execution_count": 23,
     "metadata": {},
     "output_type": "execute_result"
    }
   ],
   "source": [
    "precision_score(predictions['Target'], predictions['Predictions'])"
   ]
  },
  {
   "cell_type": "code",
   "execution_count": 24,
   "metadata": {},
   "outputs": [
    {
     "data": {
      "text/plain": [
       "1    0.520633\n",
       "0    0.479367\n",
       "Name: Target, dtype: float64"
      ]
     },
     "execution_count": 24,
     "metadata": {},
     "output_type": "execute_result"
    }
   ],
   "source": [
    "# percentage of days where the price actually went up\n",
    "\n",
    "predictions['Target'].value_counts() / predictions.shape[0]"
   ]
  },
  {
   "cell_type": "markdown",
   "metadata": {},
   "source": [
    "Backtesting has confirmed our RandomForestClassifier model only has 50% accuracy of predicting the correct direction (up or down) of tomorrow's price, and has performed worse than the benchmark of percentage of price's going up in this dataset.\n",
    "\n",
    "# Adding predictors to improve accuracy"
   ]
  },
  {
   "cell_type": "markdown",
   "metadata": {},
   "source": [
    "## Rolling average across various horizons\n",
    "is the stock price higher than 2 days ago, 5 days ago, 3 months ago, 1 year, 5 years? Has the market gone up a ton, it maybe due for a downturn, and if it has gone down, it may be due to upswing."
   ]
  },
  {
   "cell_type": "code",
   "execution_count": 25,
   "metadata": {},
   "outputs": [],
   "source": [
    "amzn_final = amzn.copy()\n",
    "\n",
    "horizons = [2,5,60,250,1000]\n",
    "new_predictors = []\n",
    "\n",
    "for horizon in horizons:\n",
    "    rolling_averages = amzn_final.rolling(horizon).mean() #create average of different horizon\n",
    "\n",
    "    ratio_column = f\"Close_Ratio_{horizon}\"\n",
    "    amzn_final[ratio_column] = amzn_final['Close'] / rolling_averages['Close']  #create ratio of any given day closing price over rolling average closing price. Include given day.\n",
    "\n",
    "    trend_column = f\"Trend_{horizon}\"\n",
    "    amzn_final[trend_column] = amzn_final['Target'].shift(1).rolling(horizon).sum() # sum the target value (when price goes up) for days prior to given day based on horizon. Does not include given day.\n",
    "\n",
    "    new_predictors += [ratio_column, trend_column]  # create new list of predictors"
   ]
  },
  {
   "cell_type": "code",
   "execution_count": 26,
   "metadata": {},
   "outputs": [
    {
     "data": {
      "text/html": [
       "<div>\n",
       "<style scoped>\n",
       "    .dataframe tbody tr th:only-of-type {\n",
       "        vertical-align: middle;\n",
       "    }\n",
       "\n",
       "    .dataframe tbody tr th {\n",
       "        vertical-align: top;\n",
       "    }\n",
       "\n",
       "    .dataframe thead th {\n",
       "        text-align: right;\n",
       "    }\n",
       "</style>\n",
       "<table border=\"1\" class=\"dataframe\">\n",
       "  <thead>\n",
       "    <tr style=\"text-align: right;\">\n",
       "      <th></th>\n",
       "      <th>Open</th>\n",
       "      <th>High</th>\n",
       "      <th>Low</th>\n",
       "      <th>Close</th>\n",
       "      <th>Volume</th>\n",
       "      <th>Tomorrow</th>\n",
       "      <th>Target</th>\n",
       "      <th>Close_Ratio_2</th>\n",
       "      <th>Trend_2</th>\n",
       "      <th>Close_Ratio_5</th>\n",
       "      <th>Trend_5</th>\n",
       "      <th>Close_Ratio_60</th>\n",
       "      <th>Trend_60</th>\n",
       "      <th>Close_Ratio_250</th>\n",
       "      <th>Trend_250</th>\n",
       "      <th>Close_Ratio_1000</th>\n",
       "      <th>Trend_1000</th>\n",
       "    </tr>\n",
       "    <tr>\n",
       "      <th>Date</th>\n",
       "      <th></th>\n",
       "      <th></th>\n",
       "      <th></th>\n",
       "      <th></th>\n",
       "      <th></th>\n",
       "      <th></th>\n",
       "      <th></th>\n",
       "      <th></th>\n",
       "      <th></th>\n",
       "      <th></th>\n",
       "      <th></th>\n",
       "      <th></th>\n",
       "      <th></th>\n",
       "      <th></th>\n",
       "      <th></th>\n",
       "      <th></th>\n",
       "      <th></th>\n",
       "    </tr>\n",
       "  </thead>\n",
       "  <tbody>\n",
       "    <tr>\n",
       "      <th>1997-05-15 00:00:00-04:00</th>\n",
       "      <td>0.121875</td>\n",
       "      <td>0.125000</td>\n",
       "      <td>0.096354</td>\n",
       "      <td>0.097917</td>\n",
       "      <td>1443120000</td>\n",
       "      <td>0.086458</td>\n",
       "      <td>0</td>\n",
       "      <td>NaN</td>\n",
       "      <td>NaN</td>\n",
       "      <td>NaN</td>\n",
       "      <td>NaN</td>\n",
       "      <td>NaN</td>\n",
       "      <td>NaN</td>\n",
       "      <td>NaN</td>\n",
       "      <td>NaN</td>\n",
       "      <td>NaN</td>\n",
       "      <td>NaN</td>\n",
       "    </tr>\n",
       "    <tr>\n",
       "      <th>1997-05-16 00:00:00-04:00</th>\n",
       "      <td>0.098438</td>\n",
       "      <td>0.098958</td>\n",
       "      <td>0.085417</td>\n",
       "      <td>0.086458</td>\n",
       "      <td>294000000</td>\n",
       "      <td>0.085417</td>\n",
       "      <td>0</td>\n",
       "      <td>0.937849</td>\n",
       "      <td>NaN</td>\n",
       "      <td>NaN</td>\n",
       "      <td>NaN</td>\n",
       "      <td>NaN</td>\n",
       "      <td>NaN</td>\n",
       "      <td>NaN</td>\n",
       "      <td>NaN</td>\n",
       "      <td>NaN</td>\n",
       "      <td>NaN</td>\n",
       "    </tr>\n",
       "    <tr>\n",
       "      <th>1997-05-19 00:00:00-04:00</th>\n",
       "      <td>0.088021</td>\n",
       "      <td>0.088542</td>\n",
       "      <td>0.081250</td>\n",
       "      <td>0.085417</td>\n",
       "      <td>122136000</td>\n",
       "      <td>0.081771</td>\n",
       "      <td>0</td>\n",
       "      <td>0.993943</td>\n",
       "      <td>0.0</td>\n",
       "      <td>NaN</td>\n",
       "      <td>NaN</td>\n",
       "      <td>NaN</td>\n",
       "      <td>NaN</td>\n",
       "      <td>NaN</td>\n",
       "      <td>NaN</td>\n",
       "      <td>NaN</td>\n",
       "      <td>NaN</td>\n",
       "    </tr>\n",
       "    <tr>\n",
       "      <th>1997-05-20 00:00:00-04:00</th>\n",
       "      <td>0.086458</td>\n",
       "      <td>0.087500</td>\n",
       "      <td>0.081771</td>\n",
       "      <td>0.081771</td>\n",
       "      <td>109344000</td>\n",
       "      <td>0.071354</td>\n",
       "      <td>0</td>\n",
       "      <td>0.978192</td>\n",
       "      <td>0.0</td>\n",
       "      <td>NaN</td>\n",
       "      <td>NaN</td>\n",
       "      <td>NaN</td>\n",
       "      <td>NaN</td>\n",
       "      <td>NaN</td>\n",
       "      <td>NaN</td>\n",
       "      <td>NaN</td>\n",
       "      <td>NaN</td>\n",
       "    </tr>\n",
       "    <tr>\n",
       "      <th>1997-05-21 00:00:00-04:00</th>\n",
       "      <td>0.081771</td>\n",
       "      <td>0.082292</td>\n",
       "      <td>0.068750</td>\n",
       "      <td>0.071354</td>\n",
       "      <td>377064000</td>\n",
       "      <td>0.069792</td>\n",
       "      <td>0</td>\n",
       "      <td>0.931971</td>\n",
       "      <td>0.0</td>\n",
       "      <td>0.843593</td>\n",
       "      <td>NaN</td>\n",
       "      <td>NaN</td>\n",
       "      <td>NaN</td>\n",
       "      <td>NaN</td>\n",
       "      <td>NaN</td>\n",
       "      <td>NaN</td>\n",
       "      <td>NaN</td>\n",
       "    </tr>\n",
       "  </tbody>\n",
       "</table>\n",
       "</div>"
      ],
      "text/plain": [
       "                               Open      High       Low     Close      Volume  \\\n",
       "Date                                                                            \n",
       "1997-05-15 00:00:00-04:00  0.121875  0.125000  0.096354  0.097917  1443120000   \n",
       "1997-05-16 00:00:00-04:00  0.098438  0.098958  0.085417  0.086458   294000000   \n",
       "1997-05-19 00:00:00-04:00  0.088021  0.088542  0.081250  0.085417   122136000   \n",
       "1997-05-20 00:00:00-04:00  0.086458  0.087500  0.081771  0.081771   109344000   \n",
       "1997-05-21 00:00:00-04:00  0.081771  0.082292  0.068750  0.071354   377064000   \n",
       "\n",
       "                           Tomorrow  Target  Close_Ratio_2  Trend_2  \\\n",
       "Date                                                                  \n",
       "1997-05-15 00:00:00-04:00  0.086458       0            NaN      NaN   \n",
       "1997-05-16 00:00:00-04:00  0.085417       0       0.937849      NaN   \n",
       "1997-05-19 00:00:00-04:00  0.081771       0       0.993943      0.0   \n",
       "1997-05-20 00:00:00-04:00  0.071354       0       0.978192      0.0   \n",
       "1997-05-21 00:00:00-04:00  0.069792       0       0.931971      0.0   \n",
       "\n",
       "                           Close_Ratio_5  Trend_5  Close_Ratio_60  Trend_60  \\\n",
       "Date                                                                          \n",
       "1997-05-15 00:00:00-04:00            NaN      NaN             NaN       NaN   \n",
       "1997-05-16 00:00:00-04:00            NaN      NaN             NaN       NaN   \n",
       "1997-05-19 00:00:00-04:00            NaN      NaN             NaN       NaN   \n",
       "1997-05-20 00:00:00-04:00            NaN      NaN             NaN       NaN   \n",
       "1997-05-21 00:00:00-04:00       0.843593      NaN             NaN       NaN   \n",
       "\n",
       "                           Close_Ratio_250  Trend_250  Close_Ratio_1000  \\\n",
       "Date                                                                      \n",
       "1997-05-15 00:00:00-04:00              NaN        NaN               NaN   \n",
       "1997-05-16 00:00:00-04:00              NaN        NaN               NaN   \n",
       "1997-05-19 00:00:00-04:00              NaN        NaN               NaN   \n",
       "1997-05-20 00:00:00-04:00              NaN        NaN               NaN   \n",
       "1997-05-21 00:00:00-04:00              NaN        NaN               NaN   \n",
       "\n",
       "                           Trend_1000  \n",
       "Date                                   \n",
       "1997-05-15 00:00:00-04:00         NaN  \n",
       "1997-05-16 00:00:00-04:00         NaN  \n",
       "1997-05-19 00:00:00-04:00         NaN  \n",
       "1997-05-20 00:00:00-04:00         NaN  \n",
       "1997-05-21 00:00:00-04:00         NaN  "
      ]
     },
     "execution_count": 26,
     "metadata": {},
     "output_type": "execute_result"
    }
   ],
   "source": [
    "amzn_final.head()"
   ]
  },
  {
   "cell_type": "code",
   "execution_count": 27,
   "metadata": {},
   "outputs": [],
   "source": [
    "# drop NA \n",
    "\n",
    "amzn_final = amzn_final.dropna()"
   ]
  },
  {
   "cell_type": "code",
   "execution_count": 28,
   "metadata": {},
   "outputs": [
    {
     "data": {
      "text/html": [
       "<div>\n",
       "<style scoped>\n",
       "    .dataframe tbody tr th:only-of-type {\n",
       "        vertical-align: middle;\n",
       "    }\n",
       "\n",
       "    .dataframe tbody tr th {\n",
       "        vertical-align: top;\n",
       "    }\n",
       "\n",
       "    .dataframe thead th {\n",
       "        text-align: right;\n",
       "    }\n",
       "</style>\n",
       "<table border=\"1\" class=\"dataframe\">\n",
       "  <thead>\n",
       "    <tr style=\"text-align: right;\">\n",
       "      <th></th>\n",
       "      <th>Open</th>\n",
       "      <th>High</th>\n",
       "      <th>Low</th>\n",
       "      <th>Close</th>\n",
       "      <th>Volume</th>\n",
       "      <th>Tomorrow</th>\n",
       "      <th>Target</th>\n",
       "      <th>Close_Ratio_2</th>\n",
       "      <th>Trend_2</th>\n",
       "      <th>Close_Ratio_5</th>\n",
       "      <th>Trend_5</th>\n",
       "      <th>Close_Ratio_60</th>\n",
       "      <th>Trend_60</th>\n",
       "      <th>Close_Ratio_250</th>\n",
       "      <th>Trend_250</th>\n",
       "      <th>Close_Ratio_1000</th>\n",
       "      <th>Trend_1000</th>\n",
       "    </tr>\n",
       "    <tr>\n",
       "      <th>Date</th>\n",
       "      <th></th>\n",
       "      <th></th>\n",
       "      <th></th>\n",
       "      <th></th>\n",
       "      <th></th>\n",
       "      <th></th>\n",
       "      <th></th>\n",
       "      <th></th>\n",
       "      <th></th>\n",
       "      <th></th>\n",
       "      <th></th>\n",
       "      <th></th>\n",
       "      <th></th>\n",
       "      <th></th>\n",
       "      <th></th>\n",
       "      <th></th>\n",
       "      <th></th>\n",
       "    </tr>\n",
       "  </thead>\n",
       "  <tbody>\n",
       "    <tr>\n",
       "      <th>2001-05-03 00:00:00-04:00</th>\n",
       "      <td>0.8415</td>\n",
       "      <td>0.8500</td>\n",
       "      <td>0.8125</td>\n",
       "      <td>0.8375</td>\n",
       "      <td>100200000</td>\n",
       "      <td>0.8780</td>\n",
       "      <td>1</td>\n",
       "      <td>0.989368</td>\n",
       "      <td>1.0</td>\n",
       "      <td>1.023839</td>\n",
       "      <td>3.0</td>\n",
       "      <td>1.335100</td>\n",
       "      <td>27.0</td>\n",
       "      <td>0.580388</td>\n",
       "      <td>115.0</td>\n",
       "      <td>0.481837</td>\n",
       "      <td>478.0</td>\n",
       "    </tr>\n",
       "    <tr>\n",
       "      <th>2001-05-04 00:00:00-04:00</th>\n",
       "      <td>0.8175</td>\n",
       "      <td>0.8800</td>\n",
       "      <td>0.7965</td>\n",
       "      <td>0.8780</td>\n",
       "      <td>131690000</td>\n",
       "      <td>0.8460</td>\n",
       "      <td>0</td>\n",
       "      <td>1.023608</td>\n",
       "      <td>1.0</td>\n",
       "      <td>1.044119</td>\n",
       "      <td>4.0</td>\n",
       "      <td>1.394919</td>\n",
       "      <td>28.0</td>\n",
       "      <td>0.611715</td>\n",
       "      <td>116.0</td>\n",
       "      <td>0.504908</td>\n",
       "      <td>479.0</td>\n",
       "    </tr>\n",
       "    <tr>\n",
       "      <th>2001-05-07 00:00:00-04:00</th>\n",
       "      <td>0.8680</td>\n",
       "      <td>0.8765</td>\n",
       "      <td>0.8255</td>\n",
       "      <td>0.8460</td>\n",
       "      <td>101674000</td>\n",
       "      <td>0.8090</td>\n",
       "      <td>0</td>\n",
       "      <td>0.981439</td>\n",
       "      <td>1.0</td>\n",
       "      <td>0.992608</td>\n",
       "      <td>3.0</td>\n",
       "      <td>1.339566</td>\n",
       "      <td>28.0</td>\n",
       "      <td>0.592668</td>\n",
       "      <td>115.0</td>\n",
       "      <td>0.486294</td>\n",
       "      <td>479.0</td>\n",
       "    </tr>\n",
       "    <tr>\n",
       "      <th>2001-05-08 00:00:00-04:00</th>\n",
       "      <td>0.8140</td>\n",
       "      <td>0.8245</td>\n",
       "      <td>0.7800</td>\n",
       "      <td>0.8090</td>\n",
       "      <td>143830000</td>\n",
       "      <td>0.7505</td>\n",
       "      <td>0</td>\n",
       "      <td>0.977644</td>\n",
       "      <td>0.0</td>\n",
       "      <td>0.957170</td>\n",
       "      <td>2.0</td>\n",
       "      <td>1.276256</td>\n",
       "      <td>28.0</td>\n",
       "      <td>0.569712</td>\n",
       "      <td>115.0</td>\n",
       "      <td>0.464831</td>\n",
       "      <td>479.0</td>\n",
       "    </tr>\n",
       "    <tr>\n",
       "      <th>2001-05-09 00:00:00-04:00</th>\n",
       "      <td>0.7775</td>\n",
       "      <td>0.7830</td>\n",
       "      <td>0.7500</td>\n",
       "      <td>0.7505</td>\n",
       "      <td>93420000</td>\n",
       "      <td>0.7310</td>\n",
       "      <td>0</td>\n",
       "      <td>0.962488</td>\n",
       "      <td>0.0</td>\n",
       "      <td>0.910580</td>\n",
       "      <td>1.0</td>\n",
       "      <td>1.183175</td>\n",
       "      <td>27.0</td>\n",
       "      <td>0.531499</td>\n",
       "      <td>114.0</td>\n",
       "      <td>0.431050</td>\n",
       "      <td>479.0</td>\n",
       "    </tr>\n",
       "  </tbody>\n",
       "</table>\n",
       "</div>"
      ],
      "text/plain": [
       "                             Open    High     Low   Close     Volume  \\\n",
       "Date                                                                   \n",
       "2001-05-03 00:00:00-04:00  0.8415  0.8500  0.8125  0.8375  100200000   \n",
       "2001-05-04 00:00:00-04:00  0.8175  0.8800  0.7965  0.8780  131690000   \n",
       "2001-05-07 00:00:00-04:00  0.8680  0.8765  0.8255  0.8460  101674000   \n",
       "2001-05-08 00:00:00-04:00  0.8140  0.8245  0.7800  0.8090  143830000   \n",
       "2001-05-09 00:00:00-04:00  0.7775  0.7830  0.7500  0.7505   93420000   \n",
       "\n",
       "                           Tomorrow  Target  Close_Ratio_2  Trend_2  \\\n",
       "Date                                                                  \n",
       "2001-05-03 00:00:00-04:00    0.8780       1       0.989368      1.0   \n",
       "2001-05-04 00:00:00-04:00    0.8460       0       1.023608      1.0   \n",
       "2001-05-07 00:00:00-04:00    0.8090       0       0.981439      1.0   \n",
       "2001-05-08 00:00:00-04:00    0.7505       0       0.977644      0.0   \n",
       "2001-05-09 00:00:00-04:00    0.7310       0       0.962488      0.0   \n",
       "\n",
       "                           Close_Ratio_5  Trend_5  Close_Ratio_60  Trend_60  \\\n",
       "Date                                                                          \n",
       "2001-05-03 00:00:00-04:00       1.023839      3.0        1.335100      27.0   \n",
       "2001-05-04 00:00:00-04:00       1.044119      4.0        1.394919      28.0   \n",
       "2001-05-07 00:00:00-04:00       0.992608      3.0        1.339566      28.0   \n",
       "2001-05-08 00:00:00-04:00       0.957170      2.0        1.276256      28.0   \n",
       "2001-05-09 00:00:00-04:00       0.910580      1.0        1.183175      27.0   \n",
       "\n",
       "                           Close_Ratio_250  Trend_250  Close_Ratio_1000  \\\n",
       "Date                                                                      \n",
       "2001-05-03 00:00:00-04:00         0.580388      115.0          0.481837   \n",
       "2001-05-04 00:00:00-04:00         0.611715      116.0          0.504908   \n",
       "2001-05-07 00:00:00-04:00         0.592668      115.0          0.486294   \n",
       "2001-05-08 00:00:00-04:00         0.569712      115.0          0.464831   \n",
       "2001-05-09 00:00:00-04:00         0.531499      114.0          0.431050   \n",
       "\n",
       "                           Trend_1000  \n",
       "Date                                   \n",
       "2001-05-03 00:00:00-04:00       478.0  \n",
       "2001-05-04 00:00:00-04:00       479.0  \n",
       "2001-05-07 00:00:00-04:00       479.0  \n",
       "2001-05-08 00:00:00-04:00       479.0  \n",
       "2001-05-09 00:00:00-04:00       479.0  "
      ]
     },
     "execution_count": 28,
     "metadata": {},
     "output_type": "execute_result"
    }
   ],
   "source": [
    "amzn_final.head()"
   ]
  },
  {
   "cell_type": "code",
   "execution_count": 29,
   "metadata": {},
   "outputs": [
    {
     "data": {
      "text/plain": [
       "(5667, 17)"
      ]
     },
     "execution_count": 29,
     "metadata": {},
     "output_type": "execute_result"
    }
   ],
   "source": [
    "amzn_final.shape"
   ]
  },
  {
   "cell_type": "markdown",
   "metadata": {},
   "source": [
    "After adding new predictors, there are a number of null values created as a result of lack of historical data based on the horizons used. We dropped these rows and as such, our final data now starts from year 2001 instead of 1997 before, and the number of data now stands at 5655 rows.\n",
    "\n",
    "## Train test model - RandomForestClassifier 2nd round"
   ]
  },
  {
   "cell_type": "code",
   "execution_count": 30,
   "metadata": {},
   "outputs": [],
   "source": [
    "rf2 = RandomForestClassifier(n_estimators=200, min_samples_split=50, random_state=42)"
   ]
  },
  {
   "cell_type": "code",
   "execution_count": 31,
   "metadata": {},
   "outputs": [],
   "source": [
    "def predict(train, test, predictors, model):\n",
    "    X_train = train[predictors]\n",
    "    y_train = train['Target']\n",
    "    X_test = test[predictors]\n",
    "    y_test = test['Target']\n",
    "    model.fit(X_train, y_train)\n",
    "    \"\"\"\n",
    "    Change preds definition to using predict_proba() to give model more control to predict\n",
    "    how likely price is going to go up\n",
    "    \"\"\" \n",
    "    preds = model.predict_proba(X_test)[:,1]  #predict_proba returns probability of each class i.e. prob of 0 and 1, we only take prob of 1 (index 1)\n",
    "    preds[preds >= 0.6] =1  #if there is greater than 60% (instead of usual 50%) chance price will go up, model will return price will go up  \n",
    "    preds[preds < 0.6] =0   #model has to be more confident that price will go up before confirming its prediction. This will return lesser results, but higher confidence, which is what we want because we don't want to trade everyday\n",
    "    preds = pd.Series(preds, index=test.index, name=\"Predictions\")\n",
    "    combined = pd.concat([y_test, preds], axis=1)\n",
    "    return combined"
   ]
  },
  {
   "cell_type": "code",
   "execution_count": 32,
   "metadata": {},
   "outputs": [],
   "source": [
    "predictions = backtest(amzn_final, rf2, new_predictors)"
   ]
  },
  {
   "cell_type": "code",
   "execution_count": 33,
   "metadata": {},
   "outputs": [
    {
     "data": {
      "text/plain": [
       "0.5"
      ]
     },
     "execution_count": 33,
     "metadata": {},
     "output_type": "execute_result"
    }
   ],
   "source": [
    "precision_score(predictions[\"Target\"], predictions['Predictions'])"
   ]
  },
  {
   "cell_type": "markdown",
   "metadata": {},
   "source": [
    "## Train test model - XGBoost"
   ]
  },
  {
   "cell_type": "code",
   "execution_count": 34,
   "metadata": {},
   "outputs": [
    {
     "name": "stdout",
     "output_type": "stream",
     "text": [
      "Requirement already satisfied: xgboost in c:\\users\\newusername\\anaconda3\\lib\\site-packages (2.0.1)\n",
      "Requirement already satisfied: scipy in c:\\users\\newusername\\anaconda3\\lib\\site-packages (from xgboost) (1.9.1)\n",
      "Requirement already satisfied: numpy in c:\\users\\newusername\\anaconda3\\lib\\site-packages (from xgboost) (1.21.5)\n"
     ]
    }
   ],
   "source": [
    "!pip install xgboost"
   ]
  },
  {
   "cell_type": "code",
   "execution_count": 35,
   "metadata": {},
   "outputs": [],
   "source": [
    "from xgboost import XGBClassifier"
   ]
  },
  {
   "cell_type": "code",
   "execution_count": 36,
   "metadata": {},
   "outputs": [],
   "source": [
    "xgb = XGBClassifier(n_estimators=200, random_state=42)"
   ]
  },
  {
   "cell_type": "code",
   "execution_count": 37,
   "metadata": {},
   "outputs": [],
   "source": [
    "predictions = backtest(amzn_final, xgb, new_predictors)"
   ]
  },
  {
   "cell_type": "code",
   "execution_count": 38,
   "metadata": {},
   "outputs": [
    {
     "data": {
      "text/plain": [
       "0.5480769230769231"
      ]
     },
     "execution_count": 38,
     "metadata": {},
     "output_type": "execute_result"
    }
   ],
   "source": [
    "precision_score(predictions[\"Target\"], predictions['Predictions'])"
   ]
  }
 ],
 "metadata": {
  "kernelspec": {
   "display_name": "base",
   "language": "python",
   "name": "python3"
  },
  "language_info": {
   "codemirror_mode": {
    "name": "ipython",
    "version": 3
   },
   "file_extension": ".py",
   "mimetype": "text/x-python",
   "name": "python",
   "nbconvert_exporter": "python",
   "pygments_lexer": "ipython3",
   "version": "3.9.13"
  }
 },
 "nbformat": 4,
 "nbformat_minor": 2
}
